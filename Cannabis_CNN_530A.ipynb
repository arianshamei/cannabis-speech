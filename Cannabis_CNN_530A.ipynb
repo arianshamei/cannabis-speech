{
 "cells": [
  {
   "cell_type": "code",
   "execution_count": 1,
   "metadata": {},
   "outputs": [
    {
     "name": "stderr",
     "output_type": "stream",
     "text": [
      "C:\\ProgramData\\Anaconda3\\lib\\site-packages\\pydub\\utils.py:165: RuntimeWarning: Couldn't find ffmpeg or avconv - defaulting to ffmpeg, but may not work\n",
      "  warn(\"Couldn't find ffmpeg or avconv - defaulting to ffmpeg, but may not work\", RuntimeWarning)\n"
     ]
    }
   ],
   "source": [
    "import librosa\n",
    "import pydub\n",
    "import os\n",
    "from pydub.audio_segment import AudioSegment\n",
    "from pydub.utils import make_chunks\n",
    "from scipy.signal import spectrogram\n",
    "from librosa.effects import preemphasis\n",
    "import numpy as np\n",
    "import matplotlib.pyplot as plt\n",
    "from librosa import display\n",
    "from sklearn.model_selection import train_test_split\n",
    "from skimage import data, io, filters\n",
    "from keras.utils import to_categorical\n",
    "from keras.models import Sequential\n",
    "from keras.layers import Conv1D, LSTM, MaxPooling1D, LocallyConnected1D\n",
    "from keras.layers import Activation, Dropout, Flatten, Dense, BatchNormalization\n",
    "from keras import optimizers\n",
    "from keras.callbacks import ModelCheckpoint"
   ]
  },
  {
   "cell_type": "markdown",
   "metadata": {},
   "source": [
    "Step 1: Segmenting audio file into 500ms chunks (code modified from: https://stackoverflow.com/questions/51060460/split-wav-file-in-python-with-different-start-and-end-duration)"
   ]
  },
  {
   "cell_type": "code",
   "execution_count": null,
   "metadata": {},
   "outputs": [],
   "source": [
    "for filename in os.listdir(directory):\n",
    "    if filename.endswith(\".wav\"):\n",
    "        save_file_name = filename[:-4]\n",
    "        myaudio = AudioSegment.from_wav(directory+\"/\"+filename) \n",
    "        chunk_length_ms = 500 # pydub calculates in millisec\n",
    "        chunks = make_chunks(myaudio, chunk_length_ms)\n",
    "        # saving then to output dir.\n",
    "        for i, chunk in enumerate(chunks):\n",
    "            chunk_name = save_file_name+\"_{0}.wav\".format(i)\n",
    "            #print(chunk_name)\n",
    "            parts = chunk_name.split('_')  \n",
    "            a = parts[-1].split('.')\n",
    "            b = a[0]\n",
    "            if(len(b) == 1):\n",
    "                b = \"0\"+b\n",
    "            chunk_name = parts[0]+\"_\"+parts[1]+\"_\"+b+\".wav\"\n",
    "            #print(chunk_name)\n",
    "            print(\"exporting\", chunk_name)\n",
    "            chunk.export(outputdir+\"/\"+chunk_name, format=\"wav\")"
   ]
  },
  {
   "cell_type": "markdown",
   "metadata": {},
   "source": [
    "Step 2: Generating Mel Spectrograms from the audio chunks (Code obtained from Librosa documentation)"
   ]
  },
  {
   "cell_type": "code",
   "execution_count": null,
   "metadata": {},
   "outputs": [],
   "source": [
    "from librosa.effects import trim\n",
    "for filename in os.listdir(directory):\n",
    "    if filename.endswith(\".wav\"):\n",
    "        y, sr = librosa.load(directory+filename)\n",
    "        yt, index = trim(y)\n",
    "        S = librosa.feature.melspectrogram(y=yt, sr=sr, n_mels=256, n_fft = 2048, hop_length=32,\n",
    "                                   fmax=8000)\n",
    "        plt.figure(figsize=(5, 5))\n",
    "        S_dB = librosa.power_to_db(S, ref=np.max)\n",
    "        librosa.display.specshow(S_dB,sr=sr,\n",
    "                             fmax=8000)\n",
    "        plt.tight_layout()\n",
    "        plt.savefig(filename[:-4]+\".png\")\n",
    "        plt.close()\n"
   ]
  },
  {
   "cell_type": "markdown",
   "metadata": {},
   "source": [
    "Step 3: Recurrent Feature Elimination on openSMILE features (Code modified from: https://www.programcreek.com/python/example/86795/sklearn.feature_selection.RFE)"
   ]
  },
  {
   "cell_type": "code",
   "execution_count": null,
   "metadata": {},
   "outputs": [],
   "source": [
    "df = pd.read_csv(\"ouputSVPT.csv\")\n",
    "\n",
    "labels =[]\n",
    "\n",
    "for name in df[\"name\"]:\n",
    "    if \"-PT-\" in str(name):\n",
    "        labels.append(\"0\")\n",
    "    elif \"-RT-\" in str(name):\n",
    "        labels.append(\"1\")\n",
    "        \n",
    "df = df.drop([\"name\", \"class\"], axis=1)\n",
    "\n",
    "model = LogisticRegression(solver='lbfgs')\n",
    "rfe = RFE(model)\n",
    "X_rfe = rfe.fit(df2,labels)\n",
    "\n",
    "\n",
    "print(\"Num Features: %d\" % X_rfe.n_features_)\n",
    "print(\"Selected Features: %s\" % X_rfe.support_)\n",
    "print(\"Feature Ranking: %s\" % X_rfe.ranking_)\n",
    "\n",
    "rankings = list(X_rfe.ranking_)\n",
    "\n",
    "feature_indexes=[]\n",
    "for i in range(len(rankings)):\n",
    "    if rankings[i]==1:\n",
    "        feature_indexes+=[i]\n"
   ]
  },
  {
   "cell_type": "markdown",
   "metadata": {},
   "source": [
    "Step 4: Preparing features for classification"
   ]
  },
  {
   "cell_type": "code",
   "execution_count": null,
   "metadata": {},
   "outputs": [],
   "source": [
    "df = pd.read_csv(\"SVPTfeatures273.csv\")\n",
    "data = df.values.tolist()\n",
    "\n",
    "X_train = data[:957]\n",
    "X_test = data[958:]\n",
    "X_train= np.array(X)\n",
    "X_test = np.array(X_)\n",
    "Y_train = labels[:957]\n",
    "Y_test = labels[958:]\n",
    "Y_train = np.array(Y_train)\n",
    "Y_train = to_categorical(Y_train)\n",
    "Y_test = np.array(Y_test)\n",
    "Y_test = to_categorical(Y_test)\n",
    "\n",
    "X_train = np.reshape(X_train, (X_train.shape[0], 1, X_train.shape[1]))\n",
    "X_test = np.reshape(X_test, (X_test.shape[0], 1, X_test.shape[1]))\n",
    "\n",
    "\n",
    "\n",
    "x_train, x_valid, y_train, y_valid = train_test_split(X_train, Y_train, test_size=0.10, shuffle= True)\n"
   ]
  },
  {
   "cell_type": "markdown",
   "metadata": {},
   "source": [
    "Step 5: Defining model architecture for Featural data"
   ]
  },
  {
   "cell_type": "code",
   "execution_count": null,
   "metadata": {},
   "outputs": [],
   "source": [
    "model = Sequential()\n",
    "batch_size = 128\n",
    "filepath=\"weights.best.hdf5\"\n",
    "data_dim = 273\n",
    "timesteps = 1\n",
    "num_classes = 2\n",
    "\n",
    "\n",
    "\n",
    "model.add(BatchNormalization(input_shape=(timesteps, data_dim)))\n",
    "model.add(Conv1D(32,3, data_format=\"channels_first\", use_bias=True))\n",
    "model.add(Activation('relu'))\n",
    "model.add(Dropout(0.2))\n",
    "model.add(MaxPooling1D(pool_size=2, strides=None, padding='valid'))\n",
    "model.add(Conv1D(64,3, data_format=\"channels_first\", use_bias=True))\n",
    "model.add(MaxPooling1D(pool_size=2, strides=None, padding='valid'))\n",
    "model.add(Dropout(0.2))\n",
    "model.add(Activation('relu'))\n",
    "model.add(Flatten())\n",
    "model.add(Dense(128))\n",
    "model.add(Dropout(0.35))\n",
    "model.add(Activation('relu'))\n",
    "model.add(Dense(2))\n",
    "model.add(Activation('sigmoid'))\n",
    "\n",
    "adadela = optimizers.adadelta()\n",
    "model.compile(loss='binary_crossentropy', optimizer=adadelta,\n",
    "              metrics=['accuracy'])\n",
    "checkpoint = ModelCheckpoint(filepath, monitor='val_accuracy', verbose=1, save_best_only=True, save_weights_only=False, mode='auto', period=1)\n",
    "callback = [checkpoint]\n"
   ]
  },
  {
   "cell_type": "code",
   "execution_count": null,
   "metadata": {},
   "outputs": [],
   "source": [
    "model.fit(x_train, y_train,\n",
    "          epochs=100,\n",
    "          batch_size=batch_size, shuffle=True,\n",
    "         validation_data=(x_valid,y_valid), callbacks = callback\n",
    "         )"
   ]
  },
  {
   "cell_type": "markdown",
   "metadata": {},
   "source": [
    "Step 6: Test the model and obtain results"
   ]
  },
  {
   "cell_type": "code",
   "execution_count": null,
   "metadata": {},
   "outputs": [],
   "source": [
    "predictions = model.predict_classes(X_test)\n",
    "predictions = [str(a) for a in predictions]\n",
    "gold = labels[958:]\n"
   ]
  },
  {
   "cell_type": "code",
   "execution_count": 201,
   "metadata": {},
   "outputs": [
    {
     "data": {
      "text/plain": [
       "0.7012987012987013"
      ]
     },
     "execution_count": 201,
     "metadata": {},
     "output_type": "execute_result"
    }
   ],
   "source": [
    "sum(1 for x,y in zip(predictions,gold) if x == y) / float(len(predictions))"
   ]
  },
  {
   "cell_type": "code",
   "execution_count": 222,
   "metadata": {},
   "outputs": [
    {
     "data": {
      "text/plain": [
       "(array([0.58666667, 0.81012658]),\n",
       " array([0.74576271, 0.67368421]),\n",
       " array([0.65671642, 0.73563218]),\n",
       " array([59, 95], dtype=int64))"
      ]
     },
     "execution_count": 222,
     "metadata": {},
     "output_type": "execute_result"
    }
   ],
   "source": [
    "precision_recall_fscore_support(gold, predictions)"
   ]
  },
  {
   "cell_type": "code",
   "execution_count": 294,
   "metadata": {},
   "outputs": [
    {
     "data": {
      "text/plain": [
       "<matplotlib.axes._subplots.AxesSubplot at 0x1b9ffc38dd8>"
      ]
     },
     "execution_count": 294,
     "metadata": {},
     "output_type": "execute_result"
    },
    {
     "data": {
      "image/png": "[encoded data removed]",
      "text/plain": [
       "<Figure size 432x288 with 2 Axes>"
      ]
     },
     "metadata": {
      "needs_background": "light"
     },
     "output_type": "display_data"
    }
   ],
   "source": [
    "import scikitplot as skplt\n",
    "skplt.metrics.plot_confusion_matrix(gold, predictions, normalize=True)"
   ]
  },
  {
   "cell_type": "code",
   "execution_count": null,
   "metadata": {},
   "outputs": [],
   "source": []
  },
  {
   "cell_type": "markdown",
   "metadata": {},
   "source": [
    "Step 7: Load spectral data"
   ]
  },
  {
   "cell_type": "code",
   "execution_count": null,
   "metadata": {},
   "outputs": [],
   "source": [
    "\n",
    "directory = \"C:/Users/A/Desktop/Participants/svptpng/\"\n",
    "files = []\n",
    "labels =[]\n",
    "for filename in os.listdir(directory):\n",
    "    if filename.endswith(\".png\"):\n",
    "        files.append(str(filename))\n",
    "        if \"-PT-\" in filename:\n",
    "            labels.append(\"0\")\n",
    "        elif \"-RT-\" in filename:\n",
    "            labels.append(\"1\")\n",
    "\n",
    "path = \"C:/Users/A/Desktop/Participants/svptpng/\"\n",
    "all_images = []\n",
    "for image_path in os.listdir(path):\n",
    "    if image_path.endswith(\"png\"):\n",
    "        img = io.imread(path+image_path , as_gray=False)\n",
    "        all_images.append(img)\n",
    "x_train = np.array(all_images)\n",
    "\n",
    "path = \"C:/Users/A/Desktop/Participants/svptpng/PM4/\"\n",
    "all_images = []\n",
    "for image_path in os.listdir(path):\n",
    "    if image_path.endswith(\"png\"):\n",
    "        img = io.imread(path+image_path , as_gray=False)\n",
    "        all_images.append(img)\n",
    "X_test = np.array(all_images)\n",
    "\n",
    "\n",
    "directory = \"C:/Users/A/Desktop/Participants/svptpng/PM4\"\n",
    "vabels =[]\n",
    "for filename in os.listdir(directory):\n",
    "    if filename.endswith(\".png\"):\n",
    "        files.append(str(filename))\n",
    "        if \"-PT-\" in filename:\n",
    "            vabels.append(\"0\")\n",
    "        elif \"-RT-\" in filename:\n",
    "            vabels.append(\"1\")\n",
    "\n",
    "            \n",
    "Y_val = np.array(Y_val)\n",
    "Y_train = np.array(Y_train)\n",
    "\n",
    "Y_val = to_categorical(Y_val)\n",
    "Y_train = to_categorical(Y_train)\n",
    "\n",
    "#Normalize the image data\n",
    "X_val = X_val/255.0\n",
    "X_train = X_train/255.0\n",
    "X_test = X_test/255.0"
   ]
  },
  {
   "cell_type": "code",
   "execution_count": null,
   "metadata": {},
   "outputs": [],
   "source": [
    "model = Sequential()\n",
    "batch_size = 64\n",
    "filepath = \"new_model.hdf5\"\n",
    "\n",
    "model.add(Conv2D(32, (3, 3), input_shape=(360,360,4),data_format=\"channels_first\",use_bias=True,kernel_initializer='normal'))\n",
    "model.add(Activation('relu'))\n",
    "model.add(MaxPooling2D(pool_size=(2, 2)))\n",
    "model.add(Conv2D(64, (3, 3)))\n",
    "model.add(Activation('relu'))\n",
    "model.add(MaxPooling2D(pool_size=(2, 2)))\n",
    "model.add(Dropout(0.25))\n",
    "model.add(Flatten())  #\n",
    "\n",
    "model.add(Dense(128))\n",
    "model.add(Activation('relu'))\n",
    "model.add(Dropout(0.5))\n",
    "model.add(Dense(2))\n",
    "model.add(Activation('sigmoid'))\n",
    "\n",
    "adam = optimizers.adadelta()\n",
    "model.compile(loss='binary_crossentropy', optimizer=adam,\n",
    "              metrics=['accuracy'])\n",
    "keras.callbacks.callbacks.ModelCheckpoint(filepath, monitor='val_loss', verbose=0, save_best_only=True, save_weights_only=False, mode='auto', period=1)\n",
    "\n",
    "model.fit(X_train, Y_train,\n",
    "          epochs=30,\n",
    "          batch_size=batch_size,\n",
    "         validation_data=(X_val,Y_val))"
   ]
  },
  {
   "cell_type": "markdown",
   "metadata": {},
   "source": [
    "Step 8: Fully train the data"
   ]
  },
  {
   "cell_type": "code",
   "execution_count": 28,
   "metadata": {},
   "outputs": [
    {
     "name": "stdout",
     "output_type": "stream",
     "text": [
      "Train on 864 samples, validate on 96 samples\n",
      "Epoch 1/20\n",
      "864/864 [==============================] - 12s 14ms/step - loss: 0.5865 - accuracy: 0.6881 - val_loss: 0.5974 - val_accuracy: 0.6198\n",
      "Epoch 2/20\n",
      "864/864 [==============================] - 11s 12ms/step - loss: 0.5885 - accuracy: 0.6759 - val_loss: 0.6528 - val_accuracy: 0.5938\n",
      "Epoch 3/20\n",
      "864/864 [==============================] - 11s 13ms/step - loss: 0.6320 - accuracy: 0.6169 - val_loss: 0.6226 - val_accuracy: 0.6302\n",
      "Epoch 4/20\n",
      "864/864 [==============================] - 11s 13ms/step - loss: 0.5466 - accuracy: 0.7170 - val_loss: 0.5762 - val_accuracy: 0.6823\n",
      "Epoch 5/20\n",
      "864/864 [==============================] - 11s 12ms/step - loss: 0.5496 - accuracy: 0.7083 - val_loss: 0.5484 - val_accuracy: 0.7448\n",
      "Epoch 6/20\n",
      "864/864 [==============================] - 11s 12ms/step - loss: 0.5045 - accuracy: 0.7419 - val_loss: 0.5216 - val_accuracy: 0.7604\n",
      "Epoch 7/20\n",
      "864/864 [==============================] - 12s 13ms/step - loss: 0.6235 - accuracy: 0.7274 - val_loss: 0.5700 - val_accuracy: 0.6146\n",
      "Epoch 8/20\n",
      "864/864 [==============================] - 11s 13ms/step - loss: 0.5028 - accuracy: 0.7552 - val_loss: 0.6499 - val_accuracy: 0.5990\n",
      "Epoch 9/20\n",
      "864/864 [==============================] - 11s 13ms/step - loss: 0.5044 - accuracy: 0.7708 - val_loss: 0.6282 - val_accuracy: 0.6354\n",
      "Epoch 10/20\n",
      "864/864 [==============================] - 11s 13ms/step - loss: 0.4739 - accuracy: 0.7836 - val_loss: 0.4692 - val_accuracy: 0.7448\n",
      "Epoch 11/20\n",
      "864/864 [==============================] - 11s 13ms/step - loss: 0.4728 - accuracy: 0.7708 - val_loss: 0.5947 - val_accuracy: 0.6406\n",
      "Epoch 12/20\n",
      "864/864 [==============================] - 11s 13ms/step - loss: 0.4133 - accuracy: 0.7888 - val_loss: 0.6951 - val_accuracy: 0.4479\n",
      "Epoch 13/20\n",
      "864/864 [==============================] - 11s 13ms/step - loss: 0.6246 - accuracy: 0.5874 - val_loss: 0.9580 - val_accuracy: 0.4583\n",
      "Epoch 14/20\n",
      "864/864 [==============================] - 11s 13ms/step - loss: 0.6887 - accuracy: 0.5550 - val_loss: 0.6855 - val_accuracy: 0.4896\n",
      "Epoch 15/20\n",
      "864/864 [==============================] - 11s 13ms/step - loss: 0.6408 - accuracy: 0.6059 - val_loss: 0.7020 - val_accuracy: 0.5417\n",
      "Epoch 16/20\n",
      "864/864 [==============================] - 11s 13ms/step - loss: 0.6185 - accuracy: 0.6487 - val_loss: 0.6679 - val_accuracy: 0.5469\n",
      "Epoch 17/20\n",
      "864/864 [==============================] - 11s 13ms/step - loss: 0.5923 - accuracy: 0.6875 - val_loss: 0.6045 - val_accuracy: 0.6354\n",
      "Epoch 18/20\n",
      "864/864 [==============================] - 11s 13ms/step - loss: 0.6300 - accuracy: 0.6603 - val_loss: 0.6227 - val_accuracy: 0.5677\n",
      "Epoch 19/20\n",
      "864/864 [==============================] - 11s 13ms/step - loss: 0.5190 - accuracy: 0.7471 - val_loss: 0.5484 - val_accuracy: 0.7552\n",
      "Epoch 20/20\n",
      "864/864 [==============================] - 11s 12ms/step - loss: 0.4239 - accuracy: 0.7957 - val_loss: 0.4514 - val_accuracy: 0.7292\n"
     ]
    },
    {
     "data": {
      "text/plain": [
       "<keras.callbacks.callbacks.History at 0x23f6f571e10>"
      ]
     },
     "execution_count": 28,
     "metadata": {},
     "output_type": "execute_result"
    }
   ],
   "source": [
    "model.fit(X_train, Y_train,\n",
    "          epochs=20,\n",
    "          batch_size=batch_size,\n",
    "         validation_data=(X_val,Y_val))"
   ]
  },
  {
   "cell_type": "code",
   "execution_count": null,
   "metadata": {},
   "outputs": [],
   "source": [
    "model.predict_classes(X_test)\n",
    "predictions = [str(a) for a in predictions]"
   ]
  },
  {
   "cell_type": "code",
   "execution_count": 59,
   "metadata": {},
   "outputs": [
    {
     "data": {
      "text/plain": [
       "0.7290322580645161"
      ]
     },
     "execution_count": 59,
     "metadata": {},
     "output_type": "execute_result"
    }
   ],
   "source": [
    "sum(1 for x,y in zip(predictions,vabels) if x == y) / float(len(predictions))"
   ]
  },
  {
   "cell_type": "code",
   "execution_count": 60,
   "metadata": {},
   "outputs": [
    {
     "data": {
      "text/plain": [
       "(array([0.67307692, 0.75728155]),\n",
       " array([0.58333333, 0.82105263]),\n",
       " array([0.625     , 0.78787879]),\n",
       " array([60, 95], dtype=int64))"
      ]
     },
     "execution_count": 60,
     "metadata": {},
     "output_type": "execute_result"
    }
   ],
   "source": [
    ">>> import numpy as np\n",
    ">>> from sklearn.metrics import precision_recall_fscore_support\n",
    "precision_recall_fscore_support(vabels, predictions)"
   ]
  }
 ],
 "metadata": {
  "kernelspec": {
   "display_name": "Python 3",
   "language": "python",
   "name": "python3"
  },
  "language_info": {
   "codemirror_mode": {
    "name": "ipython",
    "version": 3
   },
   "file_extension": ".py",
   "mimetype": "text/x-python",
   "name": "python",
   "nbconvert_exporter": "python",
   "pygments_lexer": "ipython3",
   "version": "3.7.3"
  }
 },
 "nbformat": 4,
 "nbformat_minor": 4
}
